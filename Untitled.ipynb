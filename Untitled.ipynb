{
 "cells": [
  {
   "cell_type": "code",
   "execution_count": 6,
   "metadata": {
    "collapsed": false
   },
   "outputs": [
    {
     "ename": "TabError",
     "evalue": "inconsistent use of tabs and spaces in indentation (<ipython-input-6-f9a8056e26be>, line 14)",
     "output_type": "error",
     "traceback": [
      "\u001b[0;36m  File \u001b[0;32m\"<ipython-input-6-f9a8056e26be>\"\u001b[0;36m, line \u001b[0;32m14\u001b[0m\n\u001b[0;31m    if (not i == 0 and j == 0):\u001b[0m\n\u001b[0m                               ^\u001b[0m\n\u001b[0;31mTabError\u001b[0m\u001b[0;31m:\u001b[0m inconsistent use of tabs and spaces in indentation\n"
     ]
    }
   ],
   "source": [
    "class Solution(object):\n",
    "    def minPathSum(self, grid):\n",
    "        \"\"\"\n",
    "        :type grid: List[List[int]]\n",
    "        :rtype: int\n",
    "        \"\"\"\n",
    "        m = len(grid)\n",
    "        n = len(grid[0])\n",
    "        for i in range (m):\n",
    "            for j in range(n):\n",
    "                current = grid[i][j]\n",
    "                if (i == 0 and not j == 0):\n",
    "                    grid[i][j] += grid[i][j-1];\n",
    "                if (not i == 0 and j == 0):\n",
    "                    grid[i][j] += grid[i-1][j]\n",
    "                else:\n",
    "                    grid[i][j] = min(grid[i-1][j] + current, grid[i][j-1] + current)\n",
    "        return grid[m-1][n-1]\n",
    "                "
   ]
  },
  {
   "cell_type": "code",
   "execution_count": 7,
   "metadata": {
    "collapsed": false
   },
   "outputs": [
    {
     "name": "stdout",
     "output_type": "stream",
     "text": [
      "None\n"
     ]
    }
   ],
   "source": [
    "sol = Solution(None)\n",
    "sol.do_stuff()"
   ]
  },
  {
   "cell_type": "code",
   "execution_count": 5,
   "metadata": {
    "collapsed": false
   },
   "outputs": [
    {
     "name": "stdout",
     "output_type": "stream",
     "text": [
      "{0}\n"
     ]
    }
   ],
   "source": [
    "a = set()\n",
    "a.add(0)\n",
    "print(a)"
   ]
  },
  {
   "cell_type": "code",
   "execution_count": 7,
   "metadata": {
    "collapsed": false
   },
   "outputs": [
    {
     "name": "stdout",
     "output_type": "stream",
     "text": [
      "{'', 'a', 'de', 'bc'}\n",
      "adebc\n"
     ]
    }
   ],
   "source": [
    "a = \"a.bc..de\"\n",
    "l = set(a.split(\".\"))\n",
    "print(l)\n",
    "print(\"\".join(l))"
   ]
  },
  {
   "cell_type": "code",
   "execution_count": 12,
   "metadata": {
    "collapsed": false
   },
   "outputs": [],
   "source": [
    "class Solution(object):\n",
    "    def wordsTyping(self, sentence, rows, cols):\n",
    "        \"\"\"\n",
    "        :type sentence: List[str]\n",
    "        :type rows: int\n",
    "        :type cols: int\n",
    "        :rtype: int\n",
    "        \"\"\"\n",
    "        counter = 0\n",
    "        word_lengths = [len(x) for x in sentence]\n",
    "        sentence_index = 0\n",
    "        for i in range(rows):\n",
    "            num_spaces = cols\n",
    "            while num_spaces > 0:\n",
    "                if sentence_index == len(word_lengths):\n",
    "                    sentence_index = 0\n",
    "                    counter += 1\n",
    "                \n",
    "                if num_spaces - (word_lengths[sentence_index] +1) >= 0:\n",
    "                    num_spaces -= word_lengths[sentence_index] +1\n",
    "                    sentence_index += 1\n",
    "                \n",
    "        return counter"
   ]
  },
  {
   "cell_type": "code",
   "execution_count": 40,
   "metadata": {
    "collapsed": false
   },
   "outputs": [],
   "source": [
    "class ZigzagIterator(object):\n",
    "\n",
    "    def __init__(self, v1, v2):\n",
    "        \"\"\"\n",
    "        Initialize your data structure here.\n",
    "        :type v1: List[int]\n",
    "        :type v2: List[int]\n",
    "        \"\"\"\n",
    "        self.current_v = 1\n",
    "        self.current_index = 0\n",
    "        self.v1 = v1\n",
    "        self.v2 = v2\n",
    "        \n",
    "\n",
    "    def next(self):\n",
    "        \"\"\"\n",
    "        :rtype: int\n",
    "        \"\"\"\n",
    "        if len(self.v1) == 0:\n",
    "            self.current_v = 2\n",
    "            \n",
    "        if self.current_v == 1 and self.current_index < len(self.v1):\n",
    "            ans = self.v1[self.current_index]\n",
    "            if self.current_index  < len(self.v2):\n",
    "                self.current_v = 2\n",
    "            else: \n",
    "                self.current_index += 1\n",
    "            return ans\n",
    "        print(self.current_index)\n",
    "        if self.current_v == 2 and self.current_index < len(self.v2):\n",
    "            ans = self.v2[self.current_index]\n",
    "            if self.current_index + 1 < len(self.v1):\n",
    "                self.current_v = 1\n",
    "            self.current_index += 1\n",
    "            return ans\n",
    "\n",
    "\n",
    "    def hasNext(self):\n",
    "        \"\"\"\n",
    "        :rtype: bool\n",
    "        \"\"\"\n",
    "        if self.current_index < len(self.v1) or self.current_index < len(self.v2):\n",
    "            return True \n",
    "        else:\n",
    "            return False\n",
    "\n",
    "# Your ZigzagIterator object will be instantiated and called as such:\n",
    "# i, v = ZigzagIterator(v1, v2), []\n",
    "# while i.hasNext(): v.append(i.next())"
   ]
  },
  {
   "cell_type": "code",
   "execution_count": 39,
   "metadata": {
    "collapsed": false
   },
   "outputs": [
    {
     "name": "stdout",
     "output_type": "stream",
     "text": [
      "v1\n",
      "0\n",
      "1\n",
      "None\n",
      "1\n",
      "None\n",
      "1\n",
      "None\n",
      "1\n",
      "None\n",
      "1\n",
      "None\n",
      "1\n",
      "None\n",
      "1\n",
      "None\n",
      "1\n",
      "None\n"
     ]
    }
   ],
   "source": [
    "z = ZigzagIterator([0],[0])\n",
    "print(z.next())\n",
    "print(z.next())\n",
    "print(z.next())\n",
    "print(z.next())\n",
    "print(z.next())\n",
    "print(z.next())\n",
    "print(z.next())\n",
    "print(z.next())\n",
    "print(z.next())\n"
   ]
  },
  {
   "cell_type": "code",
   "execution_count": 14,
   "metadata": {
    "collapsed": true
   },
   "outputs": [],
   "source": [
    "z.next()"
   ]
  },
  {
   "cell_type": "code",
   "execution_count": null,
   "metadata": {
    "collapsed": true
   },
   "outputs": [],
   "source": []
  }
 ],
 "metadata": {
  "kernelspec": {
   "display_name": "Python 3",
   "language": "python",
   "name": "python3"
  },
  "language_info": {
   "codemirror_mode": {
    "name": "ipython",
    "version": 3
   },
   "file_extension": ".py",
   "mimetype": "text/x-python",
   "name": "python",
   "nbconvert_exporter": "python",
   "pygments_lexer": "ipython3",
   "version": "3.5.2"
  }
 },
 "nbformat": 4,
 "nbformat_minor": 0
}

{
 "cells": [
  {
   "cell_type": "code",
   "execution_count": 6,
   "metadata": {
    "collapsed": false
   },
   "outputs": [
    {
     "ename": "TabError",
     "evalue": "inconsistent use of tabs and spaces in indentation (<ipython-input-6-f9a8056e26be>, line 14)",
     "output_type": "error",
     "traceback": [
      "\u001b[0;36m  File \u001b[0;32m\"<ipython-input-6-f9a8056e26be>\"\u001b[0;36m, line \u001b[0;32m14\u001b[0m\n\u001b[0;31m    if (not i == 0 and j == 0):\u001b[0m\n\u001b[0m                               ^\u001b[0m\n\u001b[0;31mTabError\u001b[0m\u001b[0;31m:\u001b[0m inconsistent use of tabs and spaces in indentation\n"
     ]
    }
   ],
   "source": [
    "class Solution(object):\n",
    "    def minPathSum(self, grid):\n",
    "        \"\"\"\n",
    "        :type grid: List[List[int]]\n",
    "        :rtype: int\n",
    "        \"\"\"\n",
    "        m = len(grid)\n",
    "        n = len(grid[0])\n",
    "        for i in range (m):\n",
    "            for j in range(n):\n",
    "                current = grid[i][j]\n",
    "                if (i == 0 and not j == 0):\n",
    "                    grid[i][j] += grid[i][j-1];\n",
    "                if (not i == 0 and j == 0):\n",
    "                    grid[i][j] += grid[i-1][j]\n",
    "                else:\n",
    "                    grid[i][j] = min(grid[i-1][j] + current, grid[i][j-1] + current)\n",
    "        return grid[m-1][n-1]\n",
    "                "
   ]
  },
  {
   "cell_type": "code",
   "execution_count": 7,
   "metadata": {
    "collapsed": false
   },
   "outputs": [
    {
     "name": "stdout",
     "output_type": "stream",
     "text": [
      "None\n"
     ]
    }
   ],
   "source": [
    "sol = Solution(None)\n",
    "sol.do_stuff()"
   ]
  },
  {
   "cell_type": "code",
   "execution_count": 9,
   "metadata": {
    "collapsed": false
   },
   "outputs": [
    {
     "name": "stdout",
     "output_type": "stream",
     "text": [
      "Hello World\n"
     ]
    }
   ],
   "source": [
    "def solution():\n",
    "    print(\"Hello World\")\n",
    "\n",
    "solution()\n"
   ]
  },
  {
   "cell_type": "code",
   "execution_count": 30,
   "metadata": {
    "collapsed": false
   },
   "outputs": [],
   "source": [
    "class Solution(object):\n",
    "    def exist(self, board, word):\n",
    "        \"\"\"\n",
    "        :type board: List[List[str]]\n",
    "        :type word: str\n",
    "        :rtype: bool\n",
    "        \"\"\"\n",
    "        rows = len(board)\n",
    "        cols = len(board[0]) \n",
    "        \n",
    "        def dfs(row, col, remainder, visited):\n",
    "            if remainder == \"\":\n",
    "                return True\n",
    "                \n",
    "            elif row >= 0 and col >=0 and row < rows and col < cols and board[row][col] == remainder[0] and (row,col) not in visited:\n",
    "                # print(board[row][col])\n",
    "                visited.add((row,col))\n",
    "                return dfs(row - 1, col, remainder[1:], visited) or dfs(row + 1, col, remainder[1:], visited) or dfs(row, col - 1, remainder[1:], visited) or dfs(row, col + 1, remainder[1:], visited)\n",
    "            else:\n",
    "                return False\n",
    "                \n",
    "        for row in range(rows):\n",
    "            for col in range(cols):\n",
    "                if board[row][col] == word[0]:\n",
    "                    if dfs(row, col, word, set()):\n",
    "                        return True\n",
    "        return False\n",
    "                    "
   ]
  },
  {
   "cell_type": "code",
   "execution_count": 51,
   "metadata": {
    "collapsed": false
   },
   "outputs": [
    {
     "ename": "SyntaxError",
     "evalue": "invalid syntax (<ipython-input-51-175c2ed223f6>, line 39)",
     "output_type": "error",
     "traceback": [
      "\u001b[0;36m  File \u001b[0;32m\"<ipython-input-51-175c2ed223f6>\"\u001b[0;36m, line \u001b[0;32m39\u001b[0m\n\u001b[0;31m    res = [[p]+r print([p]+r) for r in res for p in parents[r[0]]]\u001b[0m\n\u001b[0m                     ^\u001b[0m\n\u001b[0;31mSyntaxError\u001b[0m\u001b[0;31m:\u001b[0m invalid syntax\n"
     ]
    }
   ],
   "source": [
    "import collections\n",
    "import string\n",
    "def findLadders(beginWord, endWord, wordlist):\n",
    "        \"\"\"\n",
    "        :type beginWord: str\n",
    "        :type endWord: str\n",
    "        :type wordlist: Set[str]\n",
    "        :rtype: List[List[int]]\n",
    "        \"\"\"\n",
    "        wordlist.add(endWord)\n",
    "        # we're doing a level-order BFS\n",
    "        level = {beginWord}\n",
    "        # create a dictionary of sets representing the parents of the each word.\n",
    "        parents = collections.defaultdict(set)\n",
    "        \n",
    "        while level and endWord not in parents:\n",
    "            # create a dictionary of sets representing the next level\n",
    "            next_level = collections.defaultdict(set)\n",
    "            \n",
    "            # check all the nodes in this level.\n",
    "            for node in level:\n",
    "                # check all potential characters that can be at index i\n",
    "                for char in string.ascii_lowercase:\n",
    "                    # insert char into every possible index from 0 to len(beginWord)\n",
    "                    for i in range(len(beginWord)):\n",
    "                        # create a new word from the previous word and the new char.\n",
    "                        new_word = node[:i]+char+node[i+1:]\n",
    "                        if new_word in wordlist and new_word not in parents:\n",
    "                            next_level[new_word].add(node)\n",
    "            level = next_level\n",
    "            # append values from level into parent, indicating that we have visited them all.\n",
    "            # ie parents['cog']: {'log'} becomes parents['cog']: {'log', 'dog'} after update.\n",
    "            parents.update(next_level)\n",
    "        res = [[endWord]]\n",
    "        print(parents)\n",
    "        while res and res[0][0] != beginWord:\n",
    "            # for each list in res, we add the parent of the first value in the list.\n",
    "            # ie if ['cog'] is in res, we find that its parents are 'dog' and 'log', and we create separate lists given each option.\n",
    "            res = [[p]+r for r in res for p in parents[r[0]]]\n",
    "        return res\n",
    "                "
   ]
  },
  {
   "cell_type": "code",
   "execution_count": 50,
   "metadata": {
    "collapsed": false
   },
   "outputs": [
    {
     "name": "stdout",
     "output_type": "stream",
     "text": [
      "defaultdict(<class 'set'>, {'cog': {'log', 'dog'}, 'log': {'lot'}, 'dot': {'hot'}, 'dog': {'dot'}, 'hot': {'hit'}, 'lot': {'hot'}})\n"
     ]
    },
    {
     "data": {
      "text/plain": [
       "[['hit', 'hot', 'lot', 'log', 'cog'], ['hit', 'hot', 'dot', 'dog', 'cog']]"
      ]
     },
     "execution_count": 50,
     "metadata": {},
     "output_type": "execute_result"
    }
   ],
   "source": [
    "findLadders(\"hit\",\"cog\",set([\"hot\",\"dot\",\"dog\",\"lot\",\"log\"]))"
   ]
  },
  {
   "cell_type": "code",
   "execution_count": null,
   "metadata": {
    "collapsed": false
   },
   "outputs": [],
   "source": []
  },
  {
   "cell_type": "code",
   "execution_count": null,
   "metadata": {
    "collapsed": false
   },
   "outputs": [],
   "source": []
  },
  {
   "cell_type": "code",
   "execution_count": null,
   "metadata": {
    "collapsed": false
   },
   "outputs": [],
   "source": []
  },
  {
   "cell_type": "code",
   "execution_count": null,
   "metadata": {
    "collapsed": true
   },
   "outputs": [],
   "source": []
  }
 ],
 "metadata": {
  "kernelspec": {
   "display_name": "Python 3",
   "language": "python",
   "name": "python3"
  },
  "language_info": {
   "codemirror_mode": {
    "name": "ipython",
    "version": 3
   },
   "file_extension": ".py",
   "mimetype": "text/x-python",
   "name": "python",
   "nbconvert_exporter": "python",
   "pygments_lexer": "ipython3",
   "version": "3.5.2"
  }
 },
 "nbformat": 4,
 "nbformat_minor": 0
}
